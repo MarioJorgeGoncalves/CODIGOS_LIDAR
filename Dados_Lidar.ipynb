{
  "nbformat": 4,
  "nbformat_minor": 0,
  "metadata": {
    "colab": {
      "provenance": [],
      "mount_file_id": "141hgSeRRyRESMXxYbEsCpcIN-6-1vZbv",
      "authorship_tag": "ABX9TyPgfiMghF21uT5ve32yiawh",
      "include_colab_link": true
    },
    "kernelspec": {
      "name": "python3",
      "display_name": "Python 3"
    },
    "language_info": {
      "name": "python"
    }
  },
  "cells": [
    {
      "cell_type": "markdown",
      "metadata": {
        "id": "view-in-github",
        "colab_type": "text"
      },
      "source": [
        "<a href=\"https://colab.research.google.com/github/MarioJorgeGoncalves/CODIGOS_LIDAR/blob/main/Dados_Lidar.ipynb\" target=\"_parent\"><img src=\"https://colab.research.google.com/assets/colab-badge.svg\" alt=\"Open In Colab\"/></a>"
      ]
    },
    {
      "cell_type": "code",
      "source": [
        "!pip install matplotlib"
      ],
      "metadata": {
        "colab": {
          "base_uri": "https://localhost:8080/"
        },
        "id": "qNyY6E6j_56T",
        "outputId": "98d056fa-aa0c-45fc-d670-3a81d6ab3184"
      },
      "execution_count": null,
      "outputs": [
        {
          "output_type": "stream",
          "name": "stdout",
          "text": [
            "Looking in indexes: https://pypi.org/simple, https://us-python.pkg.dev/colab-wheels/public/simple/\n",
            "Requirement already satisfied: matplotlib in /usr/local/lib/python3.9/dist-packages (3.7.1)\n",
            "Requirement already satisfied: importlib-resources>=3.2.0 in /usr/local/lib/python3.9/dist-packages (from matplotlib) (5.12.0)\n",
            "Requirement already satisfied: python-dateutil>=2.7 in /usr/local/lib/python3.9/dist-packages (from matplotlib) (2.8.2)\n",
            "Requirement already satisfied: kiwisolver>=1.0.1 in /usr/local/lib/python3.9/dist-packages (from matplotlib) (1.4.4)\n",
            "Requirement already satisfied: contourpy>=1.0.1 in /usr/local/lib/python3.9/dist-packages (from matplotlib) (1.0.7)\n",
            "Requirement already satisfied: packaging>=20.0 in /usr/local/lib/python3.9/dist-packages (from matplotlib) (23.0)\n",
            "Requirement already satisfied: pillow>=6.2.0 in /usr/local/lib/python3.9/dist-packages (from matplotlib) (9.0.0)\n",
            "Requirement already satisfied: numpy>=1.20 in /usr/local/lib/python3.9/dist-packages (from matplotlib) (1.22.4)\n",
            "Requirement already satisfied: pyparsing>=2.3.1 in /usr/local/lib/python3.9/dist-packages (from matplotlib) (3.0.9)\n",
            "Requirement already satisfied: fonttools>=4.22.0 in /usr/local/lib/python3.9/dist-packages (from matplotlib) (4.39.3)\n",
            "Requirement already satisfied: cycler>=0.10 in /usr/local/lib/python3.9/dist-packages (from matplotlib) (0.11.0)\n",
            "Requirement already satisfied: zipp>=3.1.0 in /usr/local/lib/python3.9/dist-packages (from importlib-resources>=3.2.0->matplotlib) (3.15.0)\n",
            "Requirement already satisfied: six>=1.5 in /usr/local/lib/python3.9/dist-packages (from python-dateutil>=2.7->matplotlib) (1.16.0)\n"
          ]
        }
      ]
    },
    {
      "cell_type": "code",
      "source": [
        "!pip install laspy"
      ],
      "metadata": {
        "colab": {
          "base_uri": "https://localhost:8080/"
        },
        "id": "701aUCZBRgKA",
        "outputId": "f8c9cc56-2af0-4b56-d835-410a88e2fdc2"
      },
      "execution_count": null,
      "outputs": [
        {
          "output_type": "stream",
          "name": "stdout",
          "text": [
            "Looking in indexes: https://pypi.org/simple, https://us-python.pkg.dev/colab-wheels/public/simple/\n",
            "Requirement already satisfied: laspy in /usr/local/lib/python3.9/dist-packages (2.4.1)\n",
            "Requirement already satisfied: numpy in /usr/local/lib/python3.9/dist-packages (from laspy) (1.22.4)\n"
          ]
        }
      ]
    },
    {
      "cell_type": "code",
      "source": [
        "!pip install rasterio"
      ],
      "metadata": {
        "id": "DNxF2hL-fXiG",
        "colab": {
          "base_uri": "https://localhost:8080/"
        },
        "outputId": "83f3ce10-ee18-45ea-f300-45a4676b2c6c"
      },
      "execution_count": null,
      "outputs": [
        {
          "output_type": "stream",
          "name": "stdout",
          "text": [
            "Looking in indexes: https://pypi.org/simple, https://us-python.pkg.dev/colab-wheels/public/simple/\n",
            "Requirement already satisfied: rasterio in /usr/local/lib/python3.9/dist-packages (1.3.6)\n",
            "Requirement already satisfied: snuggs>=1.4.1 in /usr/local/lib/python3.9/dist-packages (from rasterio) (1.4.7)\n",
            "Requirement already satisfied: cligj>=0.5 in /usr/local/lib/python3.9/dist-packages (from rasterio) (0.7.2)\n",
            "Requirement already satisfied: attrs in /usr/local/lib/python3.9/dist-packages (from rasterio) (22.2.0)\n",
            "Requirement already satisfied: setuptools in /usr/local/lib/python3.9/dist-packages (from rasterio) (67.6.1)\n",
            "Requirement already satisfied: click-plugins in /usr/local/lib/python3.9/dist-packages (from rasterio) (1.1.1)\n",
            "Requirement already satisfied: numpy>=1.18 in /usr/local/lib/python3.9/dist-packages (from rasterio) (1.22.4)\n",
            "Requirement already satisfied: affine in /usr/local/lib/python3.9/dist-packages (from rasterio) (2.4.0)\n",
            "Requirement already satisfied: click>=4.0 in /usr/local/lib/python3.9/dist-packages (from rasterio) (8.1.3)\n",
            "Requirement already satisfied: certifi in /usr/local/lib/python3.9/dist-packages (from rasterio) (2022.12.7)\n",
            "Requirement already satisfied: pyparsing>=2.1.6 in /usr/local/lib/python3.9/dist-packages (from snuggs>=1.4.1->rasterio) (3.0.9)\n"
          ]
        }
      ]
    },
    {
      "cell_type": "code",
      "source": [
        "!pip install geopandas"
      ],
      "metadata": {
        "colab": {
          "base_uri": "https://localhost:8080/"
        },
        "id": "tIGIEN4DjYIl",
        "outputId": "3cf0abfe-5d23-4c8a-f941-183b50ad89ef"
      },
      "execution_count": null,
      "outputs": [
        {
          "output_type": "stream",
          "name": "stdout",
          "text": [
            "Looking in indexes: https://pypi.org/simple, https://us-python.pkg.dev/colab-wheels/public/simple/\n",
            "Requirement already satisfied: geopandas in /usr/local/lib/python3.9/dist-packages (0.12.2)\n",
            "Requirement already satisfied: pandas>=1.0.0 in /usr/local/lib/python3.9/dist-packages (from geopandas) (1.4.4)\n",
            "Requirement already satisfied: pyproj>=2.6.1.post1 in /usr/local/lib/python3.9/dist-packages (from geopandas) (3.5.0)\n",
            "Requirement already satisfied: packaging in /usr/local/lib/python3.9/dist-packages (from geopandas) (23.0)\n",
            "Requirement already satisfied: shapely>=1.7 in /usr/local/lib/python3.9/dist-packages (from geopandas) (2.0.1)\n",
            "Requirement already satisfied: fiona>=1.8 in /usr/local/lib/python3.9/dist-packages (from geopandas) (1.9.2)\n",
            "Requirement already satisfied: click~=8.0 in /usr/local/lib/python3.9/dist-packages (from fiona>=1.8->geopandas) (8.1.3)\n",
            "Requirement already satisfied: click-plugins>=1.0 in /usr/local/lib/python3.9/dist-packages (from fiona>=1.8->geopandas) (1.1.1)\n",
            "Requirement already satisfied: munch>=2.3.2 in /usr/local/lib/python3.9/dist-packages (from fiona>=1.8->geopandas) (2.5.0)\n",
            "Requirement already satisfied: cligj>=0.5 in /usr/local/lib/python3.9/dist-packages (from fiona>=1.8->geopandas) (0.7.2)\n",
            "Requirement already satisfied: attrs>=19.2.0 in /usr/local/lib/python3.9/dist-packages (from fiona>=1.8->geopandas) (22.2.0)\n",
            "Requirement already satisfied: certifi in /usr/local/lib/python3.9/dist-packages (from fiona>=1.8->geopandas) (2022.12.7)\n",
            "Requirement already satisfied: importlib-metadata in /usr/local/lib/python3.9/dist-packages (from fiona>=1.8->geopandas) (6.1.0)\n",
            "Requirement already satisfied: pytz>=2020.1 in /usr/local/lib/python3.9/dist-packages (from pandas>=1.0.0->geopandas) (2022.7.1)\n",
            "Requirement already satisfied: numpy>=1.18.5 in /usr/local/lib/python3.9/dist-packages (from pandas>=1.0.0->geopandas) (1.22.4)\n",
            "Requirement already satisfied: python-dateutil>=2.8.1 in /usr/local/lib/python3.9/dist-packages (from pandas>=1.0.0->geopandas) (2.8.2)\n",
            "Requirement already satisfied: six in /usr/local/lib/python3.9/dist-packages (from munch>=2.3.2->fiona>=1.8->geopandas) (1.16.0)\n",
            "Requirement already satisfied: zipp>=0.5 in /usr/local/lib/python3.9/dist-packages (from importlib-metadata->fiona>=1.8->geopandas) (3.15.0)\n"
          ]
        }
      ]
    },
    {
      "cell_type": "code",
      "source": [
        "!pip install geocube"
      ],
      "metadata": {
        "colab": {
          "base_uri": "https://localhost:8080/"
        },
        "id": "Of-IXfzXfSyc",
        "outputId": "34eb05ef-5b7b-4243-e9cc-434b6a65ac50"
      },
      "execution_count": null,
      "outputs": [
        {
          "output_type": "stream",
          "name": "stdout",
          "text": [
            "Looking in indexes: https://pypi.org/simple, https://us-python.pkg.dev/colab-wheels/public/simple/\n",
            "Requirement already satisfied: geocube in /usr/local/lib/python3.9/dist-packages (0.4.0)\n",
            "Requirement already satisfied: pyproj>=2 in /usr/local/lib/python3.9/dist-packages (from geocube) (3.5.0)\n",
            "Requirement already satisfied: odc-geo in /usr/local/lib/python3.9/dist-packages (from geocube) (0.3.3)\n",
            "Requirement already satisfied: xarray>=0.17 in /usr/local/lib/python3.9/dist-packages (from geocube) (2022.12.0)\n",
            "Requirement already satisfied: geopandas>=0.7 in /usr/local/lib/python3.9/dist-packages (from geocube) (0.12.2)\n",
            "Requirement already satisfied: click>=6.0 in /usr/local/lib/python3.9/dist-packages (from geocube) (8.1.3)\n",
            "Requirement already satisfied: numpy>=1.20 in /usr/local/lib/python3.9/dist-packages (from geocube) (1.22.4)\n",
            "Requirement already satisfied: rasterio in /usr/local/lib/python3.9/dist-packages (from geocube) (1.3.6)\n",
            "Requirement already satisfied: rioxarray>=0.4 in /usr/local/lib/python3.9/dist-packages (from geocube) (0.14.0)\n",
            "Requirement already satisfied: appdirs in /usr/local/lib/python3.9/dist-packages (from geocube) (1.4.4)\n",
            "Requirement already satisfied: scipy in /usr/local/lib/python3.9/dist-packages (from geocube) (1.10.1)\n",
            "Requirement already satisfied: packaging in /usr/local/lib/python3.9/dist-packages (from geopandas>=0.7->geocube) (23.0)\n",
            "Requirement already satisfied: shapely>=1.7 in /usr/local/lib/python3.9/dist-packages (from geopandas>=0.7->geocube) (2.0.1)\n",
            "Requirement already satisfied: pandas>=1.0.0 in /usr/local/lib/python3.9/dist-packages (from geopandas>=0.7->geocube) (1.4.4)\n",
            "Requirement already satisfied: fiona>=1.8 in /usr/local/lib/python3.9/dist-packages (from geopandas>=0.7->geocube) (1.9.2)\n",
            "Requirement already satisfied: certifi in /usr/local/lib/python3.9/dist-packages (from pyproj>=2->geocube) (2022.12.7)\n",
            "Requirement already satisfied: cligj>=0.5 in /usr/local/lib/python3.9/dist-packages (from rasterio->geocube) (0.7.2)\n",
            "Requirement already satisfied: affine in /usr/local/lib/python3.9/dist-packages (from rasterio->geocube) (2.4.0)\n",
            "Requirement already satisfied: setuptools in /usr/local/lib/python3.9/dist-packages (from rasterio->geocube) (67.6.1)\n",
            "Requirement already satisfied: snuggs>=1.4.1 in /usr/local/lib/python3.9/dist-packages (from rasterio->geocube) (1.4.7)\n",
            "Requirement already satisfied: click-plugins in /usr/local/lib/python3.9/dist-packages (from rasterio->geocube) (1.1.1)\n",
            "Requirement already satisfied: attrs in /usr/local/lib/python3.9/dist-packages (from rasterio->geocube) (22.2.0)\n",
            "Requirement already satisfied: cachetools in /usr/local/lib/python3.9/dist-packages (from odc-geo->geocube) (5.3.0)\n",
            "Requirement already satisfied: importlib-metadata in /usr/local/lib/python3.9/dist-packages (from fiona>=1.8->geopandas>=0.7->geocube) (6.1.0)\n",
            "Requirement already satisfied: munch>=2.3.2 in /usr/local/lib/python3.9/dist-packages (from fiona>=1.8->geopandas>=0.7->geocube) (2.5.0)\n",
            "Requirement already satisfied: python-dateutil>=2.8.1 in /usr/local/lib/python3.9/dist-packages (from pandas>=1.0.0->geopandas>=0.7->geocube) (2.8.2)\n",
            "Requirement already satisfied: pytz>=2020.1 in /usr/local/lib/python3.9/dist-packages (from pandas>=1.0.0->geopandas>=0.7->geocube) (2022.7.1)\n",
            "Requirement already satisfied: pyparsing>=2.1.6 in /usr/local/lib/python3.9/dist-packages (from snuggs>=1.4.1->rasterio->geocube) (3.0.9)\n",
            "Requirement already satisfied: six in /usr/local/lib/python3.9/dist-packages (from munch>=2.3.2->fiona>=1.8->geopandas>=0.7->geocube) (1.16.0)\n",
            "Requirement already satisfied: zipp>=0.5 in /usr/local/lib/python3.9/dist-packages (from importlib-metadata->fiona>=1.8->geopandas>=0.7->geocube) (3.15.0)\n"
          ]
        }
      ]
    },
    {
      "cell_type": "code",
      "source": [
        "!pip install open3d"
      ],
      "metadata": {
        "colab": {
          "base_uri": "https://localhost:8080/",
          "height": 1000
        },
        "id": "QsI1ljbvfTkr",
        "outputId": "327e4e8d-935c-412d-dd12-1271c9606be7"
      },
      "execution_count": null,
      "outputs": [
        {
          "output_type": "stream",
          "name": "stdout",
          "text": [
            "Looking in indexes: https://pypi.org/simple, https://us-python.pkg.dev/colab-wheels/public/simple/\n",
            "Requirement already satisfied: open3d in /usr/local/lib/python3.9/dist-packages (0.17.0)\n",
            "Requirement already satisfied: ipywidgets>=8.0.4 in /usr/local/lib/python3.9/dist-packages (from open3d) (8.0.6)\n",
            "Requirement already satisfied: numpy>=1.18.0 in /usr/local/lib/python3.9/dist-packages (from open3d) (1.22.4)\n",
            "Requirement already satisfied: matplotlib>=3 in /usr/local/lib/python3.9/dist-packages (from open3d) (3.7.1)\n",
            "Requirement already satisfied: pyquaternion in /usr/local/lib/python3.9/dist-packages (from open3d) (0.9.9)\n",
            "Requirement already satisfied: tqdm in /usr/local/lib/python3.9/dist-packages (from open3d) (4.65.0)\n",
            "Requirement already satisfied: werkzeug>=2.2.3 in /usr/local/lib/python3.9/dist-packages (from open3d) (2.2.3)\n",
            "Requirement already satisfied: pandas>=1.0 in /usr/local/lib/python3.9/dist-packages (from open3d) (1.4.4)\n",
            "Requirement already satisfied: scikit-learn>=0.21 in /usr/local/lib/python3.9/dist-packages (from open3d) (1.2.2)\n",
            "Requirement already satisfied: pyyaml>=5.4.1 in /usr/local/lib/python3.9/dist-packages (from open3d) (6.0)\n",
            "Collecting pillow>=9.3.0\n",
            "  Using cached Pillow-9.5.0-cp39-cp39-manylinux_2_28_x86_64.whl (3.4 MB)\n",
            "Requirement already satisfied: nbformat==5.7.0 in /usr/local/lib/python3.9/dist-packages (from open3d) (5.7.0)\n",
            "Requirement already satisfied: addict in /usr/local/lib/python3.9/dist-packages (from open3d) (2.4.0)\n",
            "Requirement already satisfied: configargparse in /usr/local/lib/python3.9/dist-packages (from open3d) (1.5.3)\n",
            "Requirement already satisfied: dash>=2.6.0 in /usr/local/lib/python3.9/dist-packages (from open3d) (2.9.2)\n",
            "Requirement already satisfied: jupyter-core in /usr/local/lib/python3.9/dist-packages (from nbformat==5.7.0->open3d) (5.3.0)\n",
            "Requirement already satisfied: traitlets>=5.1 in /usr/local/lib/python3.9/dist-packages (from nbformat==5.7.0->open3d) (5.7.1)\n",
            "Requirement already satisfied: fastjsonschema in /usr/local/lib/python3.9/dist-packages (from nbformat==5.7.0->open3d) (2.16.3)\n",
            "Requirement already satisfied: jsonschema>=2.6 in /usr/local/lib/python3.9/dist-packages (from nbformat==5.7.0->open3d) (4.3.3)\n",
            "Requirement already satisfied: Flask>=1.0.4 in /usr/local/lib/python3.9/dist-packages (from dash>=2.6.0->open3d) (2.2.3)\n",
            "Requirement already satisfied: dash-core-components==2.0.0 in /usr/local/lib/python3.9/dist-packages (from dash>=2.6.0->open3d) (2.0.0)\n",
            "Requirement already satisfied: dash-table==5.0.0 in /usr/local/lib/python3.9/dist-packages (from dash>=2.6.0->open3d) (5.0.0)\n",
            "Requirement already satisfied: dash-html-components==2.0.0 in /usr/local/lib/python3.9/dist-packages (from dash>=2.6.0->open3d) (2.0.0)\n",
            "Requirement already satisfied: plotly>=5.0.0 in /usr/local/lib/python3.9/dist-packages (from dash>=2.6.0->open3d) (5.13.1)\n",
            "Requirement already satisfied: ipython>=6.1.0 in /usr/local/lib/python3.9/dist-packages (from ipywidgets>=8.0.4->open3d) (7.34.0)\n",
            "Requirement already satisfied: widgetsnbextension~=4.0.7 in /usr/local/lib/python3.9/dist-packages (from ipywidgets>=8.0.4->open3d) (4.0.7)\n",
            "Requirement already satisfied: ipykernel>=4.5.1 in /usr/local/lib/python3.9/dist-packages (from ipywidgets>=8.0.4->open3d) (5.5.6)\n",
            "Requirement already satisfied: jupyterlab-widgets~=3.0.7 in /usr/local/lib/python3.9/dist-packages (from ipywidgets>=8.0.4->open3d) (3.0.7)\n",
            "Requirement already satisfied: pyparsing>=2.3.1 in /usr/local/lib/python3.9/dist-packages (from matplotlib>=3->open3d) (3.0.9)\n",
            "Requirement already satisfied: packaging>=20.0 in /usr/local/lib/python3.9/dist-packages (from matplotlib>=3->open3d) (23.0)\n",
            "Requirement already satisfied: importlib-resources>=3.2.0 in /usr/local/lib/python3.9/dist-packages (from matplotlib>=3->open3d) (5.12.0)\n",
            "Requirement already satisfied: contourpy>=1.0.1 in /usr/local/lib/python3.9/dist-packages (from matplotlib>=3->open3d) (1.0.7)\n",
            "Requirement already satisfied: fonttools>=4.22.0 in /usr/local/lib/python3.9/dist-packages (from matplotlib>=3->open3d) (4.39.3)\n",
            "Requirement already satisfied: kiwisolver>=1.0.1 in /usr/local/lib/python3.9/dist-packages (from matplotlib>=3->open3d) (1.4.4)\n",
            "Requirement already satisfied: cycler>=0.10 in /usr/local/lib/python3.9/dist-packages (from matplotlib>=3->open3d) (0.11.0)\n",
            "Requirement already satisfied: python-dateutil>=2.7 in /usr/local/lib/python3.9/dist-packages (from matplotlib>=3->open3d) (2.8.2)\n",
            "Requirement already satisfied: pytz>=2020.1 in /usr/local/lib/python3.9/dist-packages (from pandas>=1.0->open3d) (2022.7.1)\n",
            "Requirement already satisfied: scipy>=1.3.2 in /usr/local/lib/python3.9/dist-packages (from scikit-learn>=0.21->open3d) (1.10.1)\n",
            "Requirement already satisfied: threadpoolctl>=2.0.0 in /usr/local/lib/python3.9/dist-packages (from scikit-learn>=0.21->open3d) (3.1.0)\n",
            "Requirement already satisfied: joblib>=1.1.1 in /usr/local/lib/python3.9/dist-packages (from scikit-learn>=0.21->open3d) (1.1.1)\n",
            "Requirement already satisfied: MarkupSafe>=2.1.1 in /usr/local/lib/python3.9/dist-packages (from werkzeug>=2.2.3->open3d) (2.1.2)\n",
            "Requirement already satisfied: itsdangerous>=2.0 in /usr/local/lib/python3.9/dist-packages (from Flask>=1.0.4->dash>=2.6.0->open3d) (2.1.2)\n",
            "Requirement already satisfied: click>=8.0 in /usr/local/lib/python3.9/dist-packages (from Flask>=1.0.4->dash>=2.6.0->open3d) (8.1.3)\n",
            "Requirement already satisfied: importlib-metadata>=3.6.0 in /usr/local/lib/python3.9/dist-packages (from Flask>=1.0.4->dash>=2.6.0->open3d) (6.1.0)\n",
            "Requirement already satisfied: Jinja2>=3.0 in /usr/local/lib/python3.9/dist-packages (from Flask>=1.0.4->dash>=2.6.0->open3d) (3.1.2)\n",
            "Requirement already satisfied: zipp>=3.1.0 in /usr/local/lib/python3.9/dist-packages (from importlib-resources>=3.2.0->matplotlib>=3->open3d) (3.15.0)\n",
            "Requirement already satisfied: ipython-genutils in /usr/local/lib/python3.9/dist-packages (from ipykernel>=4.5.1->ipywidgets>=8.0.4->open3d) (0.2.0)\n",
            "Requirement already satisfied: jupyter-client in /usr/local/lib/python3.9/dist-packages (from ipykernel>=4.5.1->ipywidgets>=8.0.4->open3d) (6.1.12)\n",
            "Requirement already satisfied: tornado>=4.2 in /usr/local/lib/python3.9/dist-packages (from ipykernel>=4.5.1->ipywidgets>=8.0.4->open3d) (6.2)\n",
            "Requirement already satisfied: pygments in /usr/local/lib/python3.9/dist-packages (from ipython>=6.1.0->ipywidgets>=8.0.4->open3d) (2.14.0)\n",
            "Requirement already satisfied: backcall in /usr/local/lib/python3.9/dist-packages (from ipython>=6.1.0->ipywidgets>=8.0.4->open3d) (0.2.0)\n",
            "Requirement already satisfied: decorator in /usr/local/lib/python3.9/dist-packages (from ipython>=6.1.0->ipywidgets>=8.0.4->open3d) (4.4.2)\n",
            "Requirement already satisfied: matplotlib-inline in /usr/local/lib/python3.9/dist-packages (from ipython>=6.1.0->ipywidgets>=8.0.4->open3d) (0.1.6)\n",
            "Requirement already satisfied: pexpect>4.3 in /usr/local/lib/python3.9/dist-packages (from ipython>=6.1.0->ipywidgets>=8.0.4->open3d) (4.8.0)\n",
            "Requirement already satisfied: setuptools>=18.5 in /usr/local/lib/python3.9/dist-packages (from ipython>=6.1.0->ipywidgets>=8.0.4->open3d) (67.6.1)\n",
            "Requirement already satisfied: jedi>=0.16 in /usr/local/lib/python3.9/dist-packages (from ipython>=6.1.0->ipywidgets>=8.0.4->open3d) (0.18.2)\n",
            "Requirement already satisfied: pickleshare in /usr/local/lib/python3.9/dist-packages (from ipython>=6.1.0->ipywidgets>=8.0.4->open3d) (0.7.5)\n",
            "Requirement already satisfied: prompt-toolkit!=3.0.0,!=3.0.1,<3.1.0,>=2.0.0 in /usr/local/lib/python3.9/dist-packages (from ipython>=6.1.0->ipywidgets>=8.0.4->open3d) (3.0.38)\n",
            "Requirement already satisfied: pyrsistent!=0.17.0,!=0.17.1,!=0.17.2,>=0.14.0 in /usr/local/lib/python3.9/dist-packages (from jsonschema>=2.6->nbformat==5.7.0->open3d) (0.19.3)\n",
            "Requirement already satisfied: attrs>=17.4.0 in /usr/local/lib/python3.9/dist-packages (from jsonschema>=2.6->nbformat==5.7.0->open3d) (22.2.0)\n",
            "Requirement already satisfied: tenacity>=6.2.0 in /usr/local/lib/python3.9/dist-packages (from plotly>=5.0.0->dash>=2.6.0->open3d) (8.2.2)\n",
            "Requirement already satisfied: six>=1.5 in /usr/local/lib/python3.9/dist-packages (from python-dateutil>=2.7->matplotlib>=3->open3d) (1.16.0)\n",
            "Requirement already satisfied: platformdirs>=2.5 in /usr/local/lib/python3.9/dist-packages (from jupyter-core->nbformat==5.7.0->open3d) (3.2.0)\n",
            "Requirement already satisfied: parso<0.9.0,>=0.8.0 in /usr/local/lib/python3.9/dist-packages (from jedi>=0.16->ipython>=6.1.0->ipywidgets>=8.0.4->open3d) (0.8.3)\n",
            "Requirement already satisfied: ptyprocess>=0.5 in /usr/local/lib/python3.9/dist-packages (from pexpect>4.3->ipython>=6.1.0->ipywidgets>=8.0.4->open3d) (0.7.0)\n",
            "Requirement already satisfied: wcwidth in /usr/local/lib/python3.9/dist-packages (from prompt-toolkit!=3.0.0,!=3.0.1,<3.1.0,>=2.0.0->ipython>=6.1.0->ipywidgets>=8.0.4->open3d) (0.2.6)\n",
            "Requirement already satisfied: pyzmq>=13 in /usr/local/lib/python3.9/dist-packages (from jupyter-client->ipykernel>=4.5.1->ipywidgets>=8.0.4->open3d) (23.2.1)\n",
            "Installing collected packages: pillow\n",
            "  Attempting uninstall: pillow\n",
            "    Found existing installation: Pillow 9.0.0\n",
            "    Uninstalling Pillow-9.0.0:\n",
            "      Successfully uninstalled Pillow-9.0.0\n",
            "Successfully installed pillow-9.5.0\n"
          ]
        },
        {
          "output_type": "display_data",
          "data": {
            "application/vnd.colab-display-data+json": {
              "pip_warning": {
                "packages": [
                  "PIL"
                ]
              }
            }
          },
          "metadata": {}
        }
      ]
    },
    {
      "cell_type": "code",
      "source": [
        "!pip install rioxarray"
      ],
      "metadata": {
        "colab": {
          "base_uri": "https://localhost:8080/"
        },
        "id": "2nZ2TwWvfZ4t",
        "outputId": "c957b350-f1fc-4012-dc6d-9cdf9f96fe3a"
      },
      "execution_count": null,
      "outputs": [
        {
          "output_type": "stream",
          "name": "stdout",
          "text": [
            "Looking in indexes: https://pypi.org/simple, https://us-python.pkg.dev/colab-wheels/public/simple/\n",
            "Requirement already satisfied: rioxarray in /usr/local/lib/python3.9/dist-packages (0.14.0)\n",
            "Requirement already satisfied: packaging in /usr/local/lib/python3.9/dist-packages (from rioxarray) (23.0)\n",
            "Requirement already satisfied: numpy>=1.21 in /usr/local/lib/python3.9/dist-packages (from rioxarray) (1.22.4)\n",
            "Requirement already satisfied: xarray>=0.17 in /usr/local/lib/python3.9/dist-packages (from rioxarray) (2022.12.0)\n",
            "Requirement already satisfied: rasterio>=1.2 in /usr/local/lib/python3.9/dist-packages (from rioxarray) (1.3.6)\n",
            "Requirement already satisfied: pyproj>=2.2 in /usr/local/lib/python3.9/dist-packages (from rioxarray) (3.5.0)\n",
            "Requirement already satisfied: certifi in /usr/local/lib/python3.9/dist-packages (from pyproj>=2.2->rioxarray) (2022.12.7)\n",
            "Requirement already satisfied: affine in /usr/local/lib/python3.9/dist-packages (from rasterio>=1.2->rioxarray) (2.4.0)\n",
            "Requirement already satisfied: click-plugins in /usr/local/lib/python3.9/dist-packages (from rasterio>=1.2->rioxarray) (1.1.1)\n",
            "Requirement already satisfied: snuggs>=1.4.1 in /usr/local/lib/python3.9/dist-packages (from rasterio>=1.2->rioxarray) (1.4.7)\n",
            "Requirement already satisfied: click>=4.0 in /usr/local/lib/python3.9/dist-packages (from rasterio>=1.2->rioxarray) (8.1.3)\n",
            "Requirement already satisfied: setuptools in /usr/local/lib/python3.9/dist-packages (from rasterio>=1.2->rioxarray) (67.6.1)\n",
            "Requirement already satisfied: cligj>=0.5 in /usr/local/lib/python3.9/dist-packages (from rasterio>=1.2->rioxarray) (0.7.2)\n",
            "Requirement already satisfied: attrs in /usr/local/lib/python3.9/dist-packages (from rasterio>=1.2->rioxarray) (22.2.0)\n",
            "Requirement already satisfied: pandas>=1.3 in /usr/local/lib/python3.9/dist-packages (from xarray>=0.17->rioxarray) (1.4.4)\n",
            "Requirement already satisfied: python-dateutil>=2.8.1 in /usr/local/lib/python3.9/dist-packages (from pandas>=1.3->xarray>=0.17->rioxarray) (2.8.2)\n",
            "Requirement already satisfied: pytz>=2020.1 in /usr/local/lib/python3.9/dist-packages (from pandas>=1.3->xarray>=0.17->rioxarray) (2022.7.1)\n",
            "Requirement already satisfied: pyparsing>=2.1.6 in /usr/local/lib/python3.9/dist-packages (from snuggs>=1.4.1->rasterio>=1.2->rioxarray) (3.0.9)\n",
            "Requirement already satisfied: six>=1.5 in /usr/local/lib/python3.9/dist-packages (from python-dateutil>=2.8.1->pandas>=1.3->xarray>=0.17->rioxarray) (1.16.0)\n"
          ]
        }
      ]
    },
    {
      "cell_type": "code",
      "source": [
        "!pip install Pillow==9.0.0"
      ],
      "metadata": {
        "colab": {
          "base_uri": "https://localhost:8080/"
        },
        "id": "eg1AhFeXfZVk",
        "outputId": "dd6c5bee-609a-4dad-99f9-bb7be64e56f7"
      },
      "execution_count": null,
      "outputs": [
        {
          "output_type": "stream",
          "name": "stdout",
          "text": [
            "Looking in indexes: https://pypi.org/simple, https://us-python.pkg.dev/colab-wheels/public/simple/\n",
            "Collecting Pillow==9.0.0\n",
            "  Using cached Pillow-9.0.0-cp39-cp39-manylinux_2_17_x86_64.manylinux2014_x86_64.whl (4.3 MB)\n",
            "Installing collected packages: Pillow\n",
            "  Attempting uninstall: Pillow\n",
            "    Found existing installation: Pillow 9.5.0\n",
            "    Uninstalling Pillow-9.5.0:\n",
            "      Successfully uninstalled Pillow-9.5.0\n",
            "\u001b[31mERROR: pip's dependency resolver does not currently take into account all the packages that are installed. This behaviour is the source of the following dependency conflicts.\n",
            "open3d 0.17.0 requires pillow>=9.3.0, but you have pillow 9.0.0 which is incompatible.\u001b[0m\u001b[31m\n",
            "\u001b[0mSuccessfully installed Pillow-9.0.0\n"
          ]
        }
      ]
    },
    {
      "cell_type": "code",
      "source": [
        "from google.colab import drive\n",
        "drive.mount('/content/drive')"
      ],
      "metadata": {
        "id": "FhmnmxTaBCWr",
        "colab": {
          "base_uri": "https://localhost:8080/"
        },
        "outputId": "3d8fa162-6722-4ea7-b77e-25d9c0ccd8e0"
      },
      "execution_count": null,
      "outputs": [
        {
          "output_type": "stream",
          "name": "stdout",
          "text": [
            "Drive already mounted at /content/drive; to attempt to forcibly remount, call drive.mount(\"/content/drive\", force_remount=True).\n"
          ]
        }
      ]
    },
    {
      "cell_type": "code",
      "source": [
        "import matplotlib.pyplot as plt\n",
        "#from PIL import Image # converter a imagem para diferentes formatos e modos de cor, aplicar filtros, entre outros.\n",
        "import numpy as np\n",
        "import pandas as pd\n",
        "import open3d as o3d\n",
        "import laspy\n",
        "from collections import Counter\n",
        "import rioxarray as riox\n",
        "import geopandas as gpd\n",
        "from shapely import geometry\n",
        "from shapely.geometry import Polygon"
      ],
      "metadata": {
        "id": "onAEEL2FAmR5"
      },
      "execution_count": null,
      "outputs": []
    },
    {
      "cell_type": "code",
      "source": [
        "# Leitura pelo Laspy\n",
        "path='/content/drive/Shareddrives/Enline_MAX/Mario/Imagens_LAS/000017.las'\n",
        "las = laspy.read(path)\n"
      ],
      "metadata": {
        "id": "zrhkptQp5iqB"
      },
      "execution_count": null,
      "outputs": []
    },
    {
      "cell_type": "code",
      "source": [
        "# Filtrar a nuvem de pontos LiDAR pela categoria 1 - UNCLASSIFIED\n",
        "unclassified = laspy.create(point_format=las.header.point_format, file_version=las.header.version)\n",
        "unclassified.points = las.points[las.classification == 1]"
      ],
      "metadata": {
        "id": "Q982CV4qhSKM"
      },
      "execution_count": null,
      "outputs": []
    },
    {
      "cell_type": "code",
      "source": [
        "# Filtrar a nuvem de pontos LiDAR pela categoria 2 - GROUND\n",
        "ground = laspy.create(point_format=las.header.point_format, file_version=las.header.version)\n",
        "ground.points = las.points[las.classification == 2]"
      ],
      "metadata": {
        "id": "CQPg7NiyeZ9m"
      },
      "execution_count": null,
      "outputs": []
    },
    {
      "cell_type": "code",
      "source": [
        "# Dados Gerais da Nuvem de pontos LiDAR\n",
        "las\n",
        "las.header\n",
        "las.header.point_format # 3 dimensões\n",
        "las.header.point_count # total de pontos das 2 categorias LiDAR"
      ],
      "metadata": {
        "id": "QuRKUSuNKe0x",
        "colab": {
          "base_uri": "https://localhost:8080/"
        },
        "outputId": "59679b28-2780-4131-e38f-e3037f540e80"
      },
      "execution_count": null,
      "outputs": [
        {
          "output_type": "execute_result",
          "data": {
            "text/plain": [
              "1349155"
            ]
          },
          "metadata": {},
          "execution_count": 287
        }
      ]
    },
    {
      "cell_type": "code",
      "source": [
        "# Acessando o array de classificação\n",
        "pontos_classificados = las.points['classification']\n",
        "# Contando o número de pontos em cada categoria\n",
        "contagem_pontos = Counter(pontos_classificados)\n",
        "contagem_pontos"
      ],
      "metadata": {
        "id": "-JNCwhtk-PkQ",
        "colab": {
          "base_uri": "https://localhost:8080/"
        },
        "outputId": "3ac20946-da1b-4f6e-98b0-34e725670a94"
      },
      "execution_count": null,
      "outputs": [
        {
          "output_type": "execute_result",
          "data": {
            "text/plain": [
              "Counter({2: 243720, 1: 1105435})"
            ]
          },
          "metadata": {},
          "execution_count": 288
        }
      ]
    },
    {
      "cell_type": "code",
      "source": [
        "# Imprime as dimensões da nuvem de pontos e da variação da elevação dentro desta peça LiDAR (GROUND+UNCLASSIFIED)\n",
        "print(f'Número de pontos: {len(las)}')\n",
        "print(f'Dimensão X: {las.header.min[0]} - {las.header.max[0]}')\n",
        "print(f'Dimensão Y: {las.header.min[1]} - {las.header.max[1]}')\n",
        "print(f'Dimensão Z: {las.header.min[2]} - {las.header.max[2]}')"
      ],
      "metadata": {
        "id": "YzXWUJts59QA",
        "colab": {
          "base_uri": "https://localhost:8080/"
        },
        "outputId": "1aaa60af-3d44-4122-c5c3-0d7df2563f51"
      },
      "execution_count": null,
      "outputs": [
        {
          "output_type": "stream",
          "name": "stdout",
          "text": [
            "Número de pontos: 1349155\n",
            "Dimensão X: 1159500.0 - 1159999.99\n",
            "Dimensão Y: 1030500.0 - 1030999.99\n",
            "Dimensão Z: 1651.13 - 1786.8\n"
          ]
        }
      ]
    },
    {
      "cell_type": "code",
      "source": [
        "# Categorias da nuvem de pontos LiDAR\n",
        "set(list(las.classification))"
      ],
      "metadata": {
        "id": "TKQCAIfMONYn",
        "colab": {
          "base_uri": "https://localhost:8080/"
        },
        "outputId": "9c9c993f-0936-41aa-cec1-709bf4affe97"
      },
      "execution_count": null,
      "outputs": [
        {
          "output_type": "execute_result",
          "data": {
            "text/plain": [
              "{1, 2}"
            ]
          },
          "metadata": {},
          "execution_count": 290
        }
      ]
    },
    {
      "cell_type": "code",
      "source": [
        "# Lista de características da nuvem de pontos LiDAR\n",
        "list(las.point_format.dimension_names)"
      ],
      "metadata": {
        "id": "NfKLhqXB-9_j",
        "colab": {
          "base_uri": "https://localhost:8080/"
        },
        "outputId": "148c5672-79bc-479f-a73f-220ce8a83361"
      },
      "execution_count": null,
      "outputs": [
        {
          "output_type": "execute_result",
          "data": {
            "text/plain": [
              "['X',\n",
              " 'Y',\n",
              " 'Z',\n",
              " 'intensity',\n",
              " 'return_number',\n",
              " 'number_of_returns',\n",
              " 'scan_direction_flag',\n",
              " 'edge_of_flight_line',\n",
              " 'classification',\n",
              " 'synthetic',\n",
              " 'key_point',\n",
              " 'withheld',\n",
              " 'scan_angle_rank',\n",
              " 'user_data',\n",
              " 'point_source_id',\n",
              " 'gps_time',\n",
              " 'red',\n",
              " 'green',\n",
              " 'blue']"
            ]
          },
          "metadata": {},
          "execution_count": 291
        }
      ]
    },
    {
      "cell_type": "code",
      "source": [
        "# As coordenadas e a elevação apresentam valores inteiros (normalmente apresentada em valores discretos)\n",
        "las.X\n",
        "las.Y\n",
        "las.Z"
      ],
      "metadata": {
        "id": "_-ARPRT8_AUq",
        "colab": {
          "base_uri": "https://localhost:8080/"
        },
        "outputId": "f592f64b-a8c4-45c0-ec30-cc9575c6ebad"
      },
      "execution_count": null,
      "outputs": [
        {
          "output_type": "execute_result",
          "data": {
            "text/plain": [
              "array([166467, 166460, 166490, ..., 166683, 167544, 167612], dtype=int32)"
            ]
          },
          "metadata": {},
          "execution_count": 292
        }
      ]
    },
    {
      "cell_type": "code",
      "source": [
        "# Apresentar as coordenadas X e Y e a elevação Z da nuvem de pontos LiDAR\n",
        "point_data = np.stack([las.X, las.Y, las.Z], axis=0).transpose((1,0))\n",
        "point_data"
      ],
      "metadata": {
        "id": "8Kx8-rm5_eGr",
        "colab": {
          "base_uri": "https://localhost:8080/"
        },
        "outputId": "c8e69d27-9137-49f4-b6a6-85f50c950c81"
      },
      "execution_count": null,
      "outputs": [
        {
          "output_type": "execute_result",
          "data": {
            "text/plain": [
              "array([[115999747, 103099954,    166467],\n",
              "       [115999685, 103099913,    166460],\n",
              "       [115999655, 103099967,    166490],\n",
              "       ...,\n",
              "       [115999799, 103050137,    166683],\n",
              "       [115999894, 103050073,    167544],\n",
              "       [115999930, 103050017,    167612]], dtype=int32)"
            ]
          },
          "metadata": {},
          "execution_count": 293
        }
      ]
    },
    {
      "cell_type": "code",
      "source": [
        "# X, Y e Z apresentam valores inteiros-converter para float aplicando um fator de escala e um deslocamento (offset)\n",
        "# conversão de coordenadas em float para todos os pontos das 2 categorias\n",
        "\n",
        "## ----------------------------All points------------------------------------\n",
        "xxx = las.X * las.header.scale[0] + las.header.offset[0]\n",
        "yyy = las.Y * las.header.scale[1] + las.header.offset[1]\n",
        "zzz = las.Z * las.header.scale[2] + las.header.offset[2]\n",
        "\n",
        "\n",
        "## ---------------------------Ground points--------------------------------\n",
        "x = ground.points.X * ground.header.scale[0] + ground.header.offset[0]\n",
        "y = ground.points.Y * ground.header.scale[1] + ground.header.offset[1]\n",
        "z = ground.points.Z * ground.header.scale[2] + ground.header.offset[2]\n",
        "\n",
        "##----------------------------UNCLASSIFIED POINTS---------------------------\n",
        "xx = unclassified.points.X * unclassified.header.scale[0] + unclassified.header.offset[0]\n",
        "yy = unclassified.points.Y * unclassified.header.scale[1] + unclassified.header.offset[1]\n",
        "zz = unclassified.points.Z * unclassified.header.scale[2] + unclassified.header.offset[2]"
      ],
      "metadata": {
        "id": "RH5rUSlwevfz"
      },
      "execution_count": null,
      "outputs": []
    },
    {
      "cell_type": "code",
      "source": [
        "len(xxx)"
      ],
      "metadata": {
        "colab": {
          "base_uri": "https://localhost:8080/"
        },
        "id": "Ykq6sB2-mc26",
        "outputId": "5784dcf6-9492-4457-9df6-f119edbac00e"
      },
      "execution_count": null,
      "outputs": [
        {
          "output_type": "execute_result",
          "data": {
            "text/plain": [
              "1349155"
            ]
          },
          "metadata": {},
          "execution_count": 295
        }
      ]
    },
    {
      "cell_type": "code",
      "source": [
        "len(x)"
      ],
      "metadata": {
        "colab": {
          "base_uri": "https://localhost:8080/"
        },
        "id": "bcxSEP81j1Ty",
        "outputId": "f6e6c3ab-e2f0-4d86-ecf7-04b4ae8f472a"
      },
      "execution_count": null,
      "outputs": [
        {
          "output_type": "execute_result",
          "data": {
            "text/plain": [
              "243720"
            ]
          },
          "metadata": {},
          "execution_count": 296
        }
      ]
    },
    {
      "cell_type": "code",
      "source": [
        "len(xx)"
      ],
      "metadata": {
        "colab": {
          "base_uri": "https://localhost:8080/"
        },
        "id": "18u2sjKIj3vC",
        "outputId": "a2638199-045f-4075-b814-95e0558f7d15"
      },
      "execution_count": null,
      "outputs": [
        {
          "output_type": "execute_result",
          "data": {
            "text/plain": [
              "1105435"
            ]
          },
          "metadata": {},
          "execution_count": 297
        }
      ]
    },
    {
      "cell_type": "code",
      "source": [
        "# Plotar a nuvem de pontos em 3D DAS 2 CATEGORIAS\n",
        "fig = plt.figure(figsize=(8, 8))\n",
        "ax = fig.add_subplot(111, projection='3d')\n",
        "ax.scatter(las.x, las.y, las.z, s=0.5, c=las.z) # visualização das coordenadas x,y,z , s é o tamanho do ponto e c a tonalidade em função de z (elevação)\n",
        "ax.set_xlabel(\"COORDENADA X\")\n",
        "ax.set_ylabel(\"COORDENADA Y\")\n",
        "ax.set_zlabel(\"ELEVAÇÃO Z\")\n",
        "ax.set_title(\"Nuvem de pontos em 3D - 2 CATEGORIAS\")\n",
        "# Mostrar o gráfico\n",
        "plt.show()"
      ],
      "metadata": {
        "id": "V6JzLEG9mgiy"
      },
      "execution_count": null,
      "outputs": []
    },
    {
      "cell_type": "code",
      "source": [
        "# Plotar a nuvem de pontos em 3D EM FUNÇÃO DA CATEGORIA GROUND (3D PARA CONSTRUÇÃO DE DTM)\n",
        "fig = plt.figure(figsize=(8, 8))\n",
        "ax = fig.add_subplot(111, projection='3d')\n",
        "ax.scatter(ground.points.x, ground.points.y, ground.points.z, s=0.5, c=ground.points.z) # visualização das coordenadas x,y,z , s é o tamanho do ponto e c a tonalidade em função de z (elevação)\n",
        "ax.set_xlabel(\"COORDENADA X\")\n",
        "ax.set_ylabel(\"COORDENADA Y\")\n",
        "ax.set_zlabel(\"ELEVAÇÃO Z\")\n",
        "ax.set_title(\"Nuvem de pontos em 3D -MODELO DTM\")\n",
        "# Mostrar o gráfico\n",
        "plt.show()\n",
        "\n"
      ],
      "metadata": {
        "id": "IOtxSmT-INhA"
      },
      "execution_count": null,
      "outputs": []
    },
    {
      "cell_type": "code",
      "source": [
        "# Plotar a nuvem de pontos em 3D EM FUNÇÃO DA CATEGORIA UNCLASSIFIED (3D PARA CONSTRUÇÃO DE DSM)\n",
        "fig = plt.figure(figsize=(8,8))\n",
        "ax = fig.add_subplot(111, projection='3d')\n",
        "ax.scatter(unclassified.points.x, unclassified.points.y, unclassified.points.z, s=0.5, c=unclassified.points.z) # visualização das coordenadas x,y,z , s é o tamanho do ponto e c a tonalidade em função de z (elevação)\n",
        "ax.set_xlabel(\"COORDENADA X\")\n",
        "ax.set_ylabel(\"COORDENADA Y\")\n",
        "ax.set_zlabel(\"ELEVAÇÃO Z\")\n",
        "ax.set_title(\"Nuvem de pontos em 3D -MODELO DSM\")\n",
        "# Mostrar o gráfico\n",
        "plt.show()"
      ],
      "metadata": {
        "id": "QKdlaLBxI1q6"
      },
      "execution_count": null,
      "outputs": []
    },
    {
      "cell_type": "markdown",
      "source": [
        "CONSTRUÇÃO DE RASTER FILE GROUND AND UNCLASSIFIED AND BOTH UTILIZANDO A NUVEM DE PONTOS 17"
      ],
      "metadata": {
        "id": "-qB-BhdNArov"
      }
    },
    {
      "cell_type": "code",
      "source": [
        "# Creates a geoseries for the point geometries in the pointcloud (BOTH)\n",
        "#sss = gpd.GeoSeries(map(geometry.Point, zip(xxx, yyy))) # zip une as listas x e y de coordenadas\n",
        "#sss"
      ],
      "metadata": {
        "id": "D0iIWcu5ZxHo"
      },
      "execution_count": null,
      "outputs": []
    },
    {
      "cell_type": "code",
      "source": [
        "# Creates a geoseries for the point geometries in the pointcloud (GROUND)\n",
        "s = gpd.GeoSeries(map(geometry.Point, zip(x, y))) # zip une as listas x e y de coordenadas\n",
        "s"
      ],
      "metadata": {
        "id": "6lr5RhU1kFXr"
      },
      "execution_count": null,
      "outputs": []
    },
    {
      "cell_type": "code",
      "source": [
        "# Creates a geoseries for the point geometries in the pointcloud (UNCLASSIFIED)\n",
        "s1 = gpd.GeoSeries(map(geometry.Point, zip(xx, yy))) # zip une as listas x e y de coordenadas\n",
        "s1"
      ],
      "metadata": {
        "id": "zCSAPMmo1GlK"
      },
      "execution_count": null,
      "outputs": []
    },
    {
      "cell_type": "code",
      "source": [
        "# Creates a geodataframe for storing altitudes - BOTH\n",
        "#gdfss = gpd.GeoDataFrame(data={'Altitude':zzz}, geometry=sss, crs='EPSG:3115') # une a altitude às listas de coordenadas. EPSG:NÂO FUNCIONA!\n",
        "# Reprojetar o GeoDataFrame para EPSG:4326 (WGS 84)\n",
        "#gdfss = gdfss.to_crs('EPSG:32618')\n",
        "#gdfss"
      ],
      "metadata": {
        "id": "gIojlc-PaZv3"
      },
      "execution_count": null,
      "outputs": []
    },
    {
      "cell_type": "code",
      "source": [
        "# Creates a geodataframe for storing altitudes - GROUND\n",
        "gdf = gpd.GeoDataFrame(data={'Altitude':z}, geometry=s, crs='EPSG:3115') # une a altitude às listas de coordenadas. EPSG:NÂO FUNCIONA!\n",
        "# Reprojetar o GeoDataFrame para EPSG:4326 (WGS 84)\n",
        "#gdf = gdf.to_crs('EPSG:32618')\n",
        "gdf"
      ],
      "metadata": {
        "id": "HcEQOV9pkNrz"
      },
      "execution_count": null,
      "outputs": []
    },
    {
      "cell_type": "code",
      "source": [
        "# Creates a geodataframe for storing altitudes - UNCLASSIFIED\n",
        "gdf1 = gpd.GeoDataFrame(data={'Altitude':zz}, geometry=s1, crs='EPSG:3115') # une a altitude às listas de coordenadas. EPSG:NÂO FUNCIONA!\n",
        "# Reprojetar o GeoDataFrame para EPSG:4326 (WGS 84)\n",
        "#gdf1 = gdf1.to_crs('EPSG:32618')\n",
        "gdf1"
      ],
      "metadata": {
        "id": "9s5GZOxX1TG-"
      },
      "execution_count": null,
      "outputs": []
    },
    {
      "cell_type": "code",
      "source": [
        "#BOTH\n",
        "# Creates a 500x500 grid of 1x1 meter square polygons, AOI, criar uma grade de polígonos regulares com um tamanho específico em uma determinada área geográfica.\n",
        "#xmin, ymin, xmax, ymax = gdfss.total_bounds # extrai as coordenadas do square\n",
        "\n",
        "#length = 1 # resolução espacial xy do pixel\n",
        "#wide = 1\n",
        "\n",
        "# A função np.arange é usada para criar uma sequência de valores de coordenadas, começando em xmin (ou ymin) e indo até xmax (ou ymax) com incrementos de wide (ou length)\n",
        "#cols = list(np.arange(xmin, xmax + wide, wide))\n",
        "#rows = list(np.arange(ymin, ymax + length, length))\n",
        "\n",
        "#polygons = [] # essa linha cria uma lista vazia para armazenar os polígonos da grade.\n",
        "#for x in cols[:-1]: #criam uma lista de polígonos retangulares regulares ao percorrer todas as posições da grade definidas por cols e rows. Para cada posição, é criado um polígono retangular com quatro vértices, usando as coordenadas da posição atual e adicionando o tamanho da grade para definir os vértices do polígono. O resultado é uma lista de objetos Polygon da biblioteca shapely.geometry, que serão usados para criar um novo GeoDataFrame.\n",
        "#    for y in rows[:-1]:\n",
        "#        polygons.append(Polygon([(x,y), (x+wide, y), (x+wide, y+length), (x, y+length)]))\n",
        "\n",
        "#gridss = gpd.GeoDataFrame({'geometry':polygons}, crs='EPSG:32618') # cria um novo GeoDataFrame chamado grid com uma única coluna geometry que contém a lista de polígonos polygons\n",
        "# grid.to_file(\"grid.shp\")\n",
        "#gridss"
      ],
      "metadata": {
        "id": "_Nv96AR5ckFh"
      },
      "execution_count": null,
      "outputs": []
    },
    {
      "cell_type": "code",
      "source": [
        "#GROUND\n",
        "# Creates a 500x500 grid of 1x1 meter square polygons, AOI, criar uma grade de polígonos regulares com um tamanho específico em uma determinada área geográfica.\n",
        "xmin, ymin, xmax, ymax = gdf.total_bounds # extrai as coordenadas do square\n",
        "\n",
        "length = 1 # resolução espacial xy do pixel\n",
        "wide = 1\n",
        "\n",
        "# A função np.arange é usada para criar uma sequência de valores de coordenadas, começando em xmin (ou ymin) e indo até xmax (ou ymax) com incrementos de wide (ou length)\n",
        "cols = list(np.arange(xmin, xmax + wide, wide))\n",
        "rows = list(np.arange(ymin, ymax + length, length))\n",
        "\n",
        "polygons = [] # essa linha cria uma lista vazia para armazenar os polígonos da grade.\n",
        "for x in cols[:-1]: #criam uma lista de polígonos retangulares regulares ao percorrer todas as posições da grade definidas por cols e rows. Para cada posição, é criado um polígono retangular com quatro vértices, usando as coordenadas da posição atual e adicionando o tamanho da grade para definir os vértices do polígono. O resultado é uma lista de objetos Polygon da biblioteca shapely.geometry, que serão usados para criar um novo GeoDataFrame.\n",
        "    for y in rows[:-1]:\n",
        "        polygons.append(Polygon([(x,y), (x+wide, y), (x+wide, y+length), (x, y+length)]))\n",
        "\n",
        "grid = gpd.GeoDataFrame({'geometry':polygons}, crs='EPSG:3115') # cria um novo GeoDataFrame chamado grid com uma única coluna geometry que contém a lista de polígonos polygons\n",
        "# grid.to_file(\"grid.shp\")\n",
        "grid"
      ],
      "metadata": {
        "id": "g1O5vPSXkkqD"
      },
      "execution_count": null,
      "outputs": []
    },
    {
      "cell_type": "code",
      "source": [
        "# MUDAR DE PROJEÇÃO PARA EPSG: 32618\n",
        "gdf = gdf.to_crs('EPSG:32618') #GROUND\n",
        "grid=grid.to_crs('EPSG:32618') #GROUND"
      ],
      "metadata": {
        "id": "M-PudY30CHiO"
      },
      "execution_count": null,
      "outputs": []
    },
    {
      "cell_type": "code",
      "source": [
        "#UNCLASSIFIED\n",
        "# Creates a 500x500 grid of 1x1 meter square polygons, AOI, criar uma grade de polígonos regulares com um tamanho específico em uma determinada área geográfica.\n",
        "xmin, ymin, xmax, ymax = gdf1.total_bounds # extrai as coordenadas do square\n",
        "\n",
        "length = 1 # resolução espacial xy do pixel\n",
        "wide = 1\n",
        "\n",
        "# A função np.arange é usada para criar uma sequência de valores de coordenadas, começando em xmin (ou ymin) e indo até xmax (ou ymax) com incrementos de wide (ou length)\n",
        "cols = list(np.arange(xmin, xmax + wide, wide))\n",
        "rows = list(np.arange(ymin, ymax + length, length))\n",
        "\n",
        "polygons = [] # essa linha cria uma lista vazia para armazenar os polígonos da grade.\n",
        "for x in cols[:-1]: #criam uma lista de polígonos retangulares regulares ao percorrer todas as posições da grade definidas por cols e rows. Para cada posição, é criado um polígono retangular com quatro vértices, usando as coordenadas da posição atual e adicionando o tamanho da grade para definir os vértices do polígono. O resultado é uma lista de objetos Polygon da biblioteca shapely.geometry, que serão usados para criar um novo GeoDataFrame.\n",
        "    for y in rows[:-1]:\n",
        "        polygons.append(Polygon([(x,y), (x+wide, y), (x+wide, y+length), (x, y+length)]))\n",
        "\n",
        "grid1 = gpd.GeoDataFrame({'geometry':polygons}, crs='EPSG:3115') # cria um novo GeoDataFrame chamado grid com uma única coluna geometry que contém a lista de polígonos polygons\n",
        "# grid.to_file(\"grid.shp\")\n",
        "grid1"
      ],
      "metadata": {
        "id": "vR9GWnPe1a_m"
      },
      "execution_count": null,
      "outputs": []
    },
    {
      "cell_type": "code",
      "source": [
        "# MUDAR DE PROJEÇÃO PARA EPSG: 32618\n",
        "gdf1 = gdf1.to_crs('EPSG:32618') #UNCLASSIFIED\n",
        "grid1=grid1.to_crs('EPSG:32618') # UNCLASSIFIED"
      ],
      "metadata": {
        "id": "QJUOMwo2CPx9"
      },
      "execution_count": null,
      "outputs": []
    },
    {
      "cell_type": "code",
      "source": [
        "#BOTH\n",
        "# Merges the grid with the pointcloud (section points into the square grid)\n",
        "#mergedss = gridss.sjoin(gdfss, how=\"left\", predicate='intersects')\n",
        "#mergedss # quais os pontos que estão dentro de cada pixel quadrado"
      ],
      "metadata": {
        "id": "V9vPfGG7dPNi"
      },
      "execution_count": null,
      "outputs": []
    },
    {
      "cell_type": "code",
      "source": [
        "#GROUND\n",
        "# Merges the grid with the pointcloud (section points into the square grid)\n",
        "merged = grid.sjoin(gdf, how=\"left\", predicate='intersects')\n",
        "merged # quais os pontos que estão dentro de cada pixel quadrado"
      ],
      "metadata": {
        "id": "Ca394dCGlLjD"
      },
      "execution_count": null,
      "outputs": []
    },
    {
      "cell_type": "code",
      "source": [
        "#UNCLASSIFIED\n",
        "# Merges the grid with the pointcloud (section points into the square grid)\n",
        "merged1 = grid1.sjoin(gdf1, how=\"left\", predicate='intersects')\n",
        "merged1 # quais os pontos que estão dentro de cada pixel quadrado"
      ],
      "metadata": {
        "id": "ThOvY1Bc11F-"
      },
      "execution_count": null,
      "outputs": []
    },
    {
      "cell_type": "code",
      "source": [
        "#BOTH\n",
        "# Get mean altitude of points inside each square\n",
        "#group_mergess = mergedss.groupby(mergedss.index).max()\n",
        "#group_mergess.drop(columns=['index_right'],inplace=True)\n",
        "#group_mergess #média de pontos e o pixel fica associado com a média da elevação dos pontos dentro de cada pixel"
      ],
      "metadata": {
        "id": "Ar5zak9GdirR"
      },
      "execution_count": null,
      "outputs": []
    },
    {
      "cell_type": "code",
      "source": [
        "#GROUND\n",
        "# Get mean altitude of points inside each square\n",
        "group_merge = merged.groupby(merged.index).max()\n",
        "group_merge.drop(columns=['index_right'],inplace=True)\n",
        "group_merge #média de pontos e o pixel fica associado com a média da elevação dos pontos dentro de cada pixel"
      ],
      "metadata": {
        "id": "vGBZwDj9lVfq"
      },
      "execution_count": null,
      "outputs": []
    },
    {
      "cell_type": "code",
      "source": [
        "#UNCLASSIFIED\n",
        "# Get mean altitude of points inside each square\n",
        "group_merge1 = merged1.groupby(merged1.index).max()\n",
        "group_merge1.drop(columns=['index_right'],inplace=True)\n",
        "group_merge1 #média de pontos e o pixel fica associado com a média da elevação dos pontos dentro de cada pixel"
      ],
      "metadata": {
        "id": "dKTy39-Q2Y9O"
      },
      "execution_count": null,
      "outputs": []
    },
    {
      "cell_type": "code",
      "source": [
        "#BOTH\n",
        "# Saves the mean heights inside a geodataframe\n",
        "#grid_heightsss = gridss.join(group_mergess)\n",
        "#grid_heightsss.rename(columns={'geometry':'squares'}, inplace=True)\n",
        "#grid_heightsss['geometry'] = grid_heightsss['squares'].centroid\n",
        "#grid_heightsss.set_geometry('geometry',inplace=True)\n",
        "#grid_heightsss # adiciona a coluna da geometria pa determinar o centro de cada pixel. As coordenadas do raster vão ser o centro de cada pixel quadrado"
      ],
      "metadata": {
        "id": "ON94KEt7dxhb"
      },
      "execution_count": null,
      "outputs": []
    },
    {
      "cell_type": "code",
      "source": [
        "#GROUND\n",
        "# Saves the mean heights inside a geodataframe\n",
        "grid_heights = grid.join(group_merge)\n",
        "grid_heights.rename(columns={'geometry':'squares'}, inplace=True)\n",
        "grid_heights['geometry'] = grid_heights['squares'].centroid\n",
        "grid_heights.set_geometry('geometry',inplace=True)\n",
        "grid_heights # adiciona a coluna da geometria pa determinar o centro de cada pixel. As coordenadas do raster vão ser o centro de cada pixel quadrado\n",
        "grid_heights"
      ],
      "metadata": {
        "id": "KTyNsv0wlmbC"
      },
      "execution_count": null,
      "outputs": []
    },
    {
      "cell_type": "code",
      "source": [
        "#UNCLASSIFIED\n",
        "# Saves the mean heights inside a geodataframe\n",
        "grid_heights1 = grid1.join(group_merge1)\n",
        "grid_heights1.rename(columns={'geometry':'squares'}, inplace=True)\n",
        "grid_heights1['geometry'] = grid_heights1['squares'].centroid\n",
        "grid_heights1.set_geometry('geometry',inplace=True)\n",
        "grid_heights1 # adiciona a coluna da geometria pa determinar o centro de cada pixel. As coordenadas do raster vão ser o centro de cada pixel quadrado"
      ],
      "metadata": {
        "id": "ZqbzVjhT2nW2"
      },
      "execution_count": null,
      "outputs": []
    },
    {
      "cell_type": "code",
      "source": [
        "#BOTH\n",
        "# Saves geodataframe to raster\n",
        "#from geocube.api.core import make_geocube # cria um cubo de dados raster, com ainclusão de apenas os valores de elevação\n",
        "#cube = make_geocube(\n",
        "#    grid_heightsss,\n",
        "#    measurements=[\"Altitude\"],\n",
        "#    resolution=(1, -1),\n",
        "#)\n",
        "\n",
        "#cube.Altitude.rio.to_raster(\"Model_1km_maximo_MJ.tif\")"
      ],
      "metadata": {
        "id": "wxx1JAKteKhC"
      },
      "execution_count": null,
      "outputs": []
    },
    {
      "cell_type": "code",
      "source": [
        "#GROUND\n",
        "# Saves geodataframe to raster\n",
        "from geocube.api.core import make_geocube # cria um cubo de dados raster, com ainclusão de apenas os valores de elevação\n",
        "cube = make_geocube(\n",
        "    grid_heights,\n",
        "    measurements=[\"Altitude\"],\n",
        "    resolution=(1, -1),\n",
        ")\n",
        "\n",
        "cube.Altitude.rio.to_raster(\"DTM_DEM_500m_maximo.tif\")"
      ],
      "metadata": {
        "id": "pzNAgMt_lqpa"
      },
      "execution_count": null,
      "outputs": []
    },
    {
      "cell_type": "code",
      "source": [
        "#UNCLASSIFIED\n",
        "# Saves geodataframe to raster\n",
        "from geocube.api.core import make_geocube # cria um cubo de dados raster, com ainclusão de apenas os valores de elevação\n",
        "cube = make_geocube(\n",
        "    grid_heights1,\n",
        "    measurements=[\"Altitude\"],\n",
        "    resolution=(1, -1),\n",
        ")\n",
        "\n",
        "cube.Altitude.rio.to_raster(\"DSM_500m_maximo.tif\")"
      ],
      "metadata": {
        "id": "PN1ZPslI2wKi"
      },
      "execution_count": null,
      "outputs": []
    },
    {
      "cell_type": "code",
      "source": [
        "#raster_both_1km_maximo_MJ = riox.open_rasterio('Model_1km_maximo.tif')"
      ],
      "metadata": {
        "id": "Quv39LiZeb5z"
      },
      "execution_count": null,
      "outputs": []
    },
    {
      "cell_type": "code",
      "source": [
        "raster_ground_500m_maximo = riox.open_rasterio('DTM_DEM_500m_maximo.tif')"
      ],
      "metadata": {
        "id": "QG0ccClglv1a"
      },
      "execution_count": null,
      "outputs": []
    },
    {
      "cell_type": "code",
      "source": [
        "raster_unclassified_500m_maximo = riox.open_rasterio('DSM_500m_maximo.tif')"
      ],
      "metadata": {
        "id": "OLhayTi123bN"
      },
      "execution_count": null,
      "outputs": []
    },
    {
      "cell_type": "code",
      "source": [
        "#raster_both_1km_maximo_MJ.plot()"
      ],
      "metadata": {
        "id": "fNT0iPRVelQL"
      },
      "execution_count": null,
      "outputs": []
    },
    {
      "cell_type": "code",
      "source": [
        "raster_ground_500m_maximo.plot()"
      ],
      "metadata": {
        "id": "6NLodUfgmQKa"
      },
      "execution_count": null,
      "outputs": []
    },
    {
      "cell_type": "code",
      "source": [
        "raster_unclassified_500m_maximo.plot()"
      ],
      "metadata": {
        "id": "jIcLWlER291N"
      },
      "execution_count": null,
      "outputs": []
    },
    {
      "cell_type": "code",
      "source": [
        "#BOTH\n",
        "# Salve a imagem na pasta \"Imagens_LAS\" em sua pasta principal do Google Drive\n",
        "#raster_both_1km_maximo_MJ.rio.to_raster('/content/drive/Shareddrives/Enline_MAX/Mario/Imagens_LAS/MJ.tif')"
      ],
      "metadata": {
        "id": "2n0Nx6-0eusC"
      },
      "execution_count": null,
      "outputs": []
    },
    {
      "cell_type": "code",
      "source": [
        "#GROUND\n",
        "# Salve a imagem na pasta \"Imagens_LAS\" em sua pasta principal do Google Drive\n",
        "raster_ground_500m_maximo.rio.to_raster('/content/drive/Shareddrives/Enline_MAX/Mario/Imagens_LAS/DTM_DEM_500m_maximo.tif')"
      ],
      "metadata": {
        "id": "vbfXnT6D3EUd"
      },
      "execution_count": null,
      "outputs": []
    },
    {
      "cell_type": "code",
      "source": [
        "#UNCLASSIFIED\n",
        "# Salve a imagem na pasta \"Imagens_LAS\" em sua pasta principal do Google Drive\n",
        "raster_unclassified_500m_maximo.rio.to_raster('/content/drive/Shareddrives/Enline_MAX/Mario/Imagens_LAS/DSM_500m_maximo.tif')"
      ],
      "metadata": {
        "id": "Ylg0C6aPBm1w"
      },
      "execution_count": null,
      "outputs": []
    }
  ]
}